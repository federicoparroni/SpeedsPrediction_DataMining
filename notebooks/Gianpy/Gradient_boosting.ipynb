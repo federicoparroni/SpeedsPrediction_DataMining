{
 "cells": [
  {
   "cell_type": "code",
   "execution_count": 1,
   "metadata": {},
   "outputs": [],
   "source": [
    "import pandas as pd\n",
    "from tqdm import tqdm_notebook as tqdm\n",
    "import os\n",
    "import numpy as np\n",
    "import sklearn\n",
    "from sklearn.ensemble import GradientBoostingRegressor\n",
    "\n",
    "os.chdir('../..')\n",
    "\n",
    "from src.utils import *\n",
    "from src.utility import merge_speed_events\n",
    "from src.preprocessing.other_features import avg_speed_for_roadtype\n",
    "import src.data as data"
   ]
  },
  {
   "cell_type": "code",
   "execution_count": 5,
   "metadata": {},
   "outputs": [
    {
     "name": "stdout",
     "output_type": "stream",
     "text": [
      "caching sensors\n",
      "\n",
      "sensors loaded in: 0.0092 s\n",
      "\n",
      "shape of the dataframe is: (2171, 5)\n"
     ]
    }
   ],
   "source": [
    "speeds_df = data.speeds()\n",
    "sensors_df = data.sensors()"
   ]
  },
  {
   "cell_type": "code",
   "execution_count": 15,
   "metadata": {},
   "outputs": [
    {
     "data": {
      "text/html": [
       "<div>\n",
       "<style scoped>\n",
       "    .dataframe tbody tr th:only-of-type {\n",
       "        vertical-align: middle;\n",
       "    }\n",
       "\n",
       "    .dataframe tbody tr th {\n",
       "        vertical-align: top;\n",
       "    }\n",
       "\n",
       "    .dataframe thead th {\n",
       "        text-align: right;\n",
       "    }\n",
       "</style>\n",
       "<table border=\"1\" class=\"dataframe\">\n",
       "  <thead>\n",
       "    <tr style=\"text-align: right;\">\n",
       "      <th></th>\n",
       "      <th>DATETIME_UTC</th>\n",
       "      <th>KEY</th>\n",
       "      <th>KM</th>\n",
       "      <th>SPEED_AVG</th>\n",
       "      <th>SPEED_SD</th>\n",
       "      <th>SPEED_MIN</th>\n",
       "      <th>SPEED_MAX</th>\n",
       "      <th>N_VEHICLES</th>\n",
       "      <th>IMPUTED</th>\n",
       "      <th>EMERGENCY_LANE</th>\n",
       "      <th>LANES</th>\n",
       "      <th>ROAD_TYPE</th>\n",
       "    </tr>\n",
       "  </thead>\n",
       "  <tbody>\n",
       "    <tr>\n",
       "      <th>0</th>\n",
       "      <td>2018-09-01 00:00:00</td>\n",
       "      <td>0.0</td>\n",
       "      <td>333</td>\n",
       "      <td>231.125907</td>\n",
       "      <td>34.573767</td>\n",
       "      <td>169.890</td>\n",
       "      <td>440.096</td>\n",
       "      <td>150.0</td>\n",
       "      <td>False</td>\n",
       "      <td>1</td>\n",
       "      <td>2</td>\n",
       "      <td>1</td>\n",
       "    </tr>\n",
       "    <tr>\n",
       "      <th>1</th>\n",
       "      <td>2018-09-01 00:15:00</td>\n",
       "      <td>0.0</td>\n",
       "      <td>333</td>\n",
       "      <td>225.915947</td>\n",
       "      <td>41.437726</td>\n",
       "      <td>98.698</td>\n",
       "      <td>436.860</td>\n",
       "      <td>225.0</td>\n",
       "      <td>False</td>\n",
       "      <td>1</td>\n",
       "      <td>2</td>\n",
       "      <td>1</td>\n",
       "    </tr>\n",
       "    <tr>\n",
       "      <th>2</th>\n",
       "      <td>2018-09-01 00:30:00</td>\n",
       "      <td>0.0</td>\n",
       "      <td>333</td>\n",
       "      <td>228.498770</td>\n",
       "      <td>43.031004</td>\n",
       "      <td>114.878</td>\n",
       "      <td>440.096</td>\n",
       "      <td>148.0</td>\n",
       "      <td>False</td>\n",
       "      <td>1</td>\n",
       "      <td>2</td>\n",
       "      <td>1</td>\n",
       "    </tr>\n",
       "  </tbody>\n",
       "</table>\n",
       "</div>"
      ],
      "text/plain": [
       "         DATETIME_UTC  KEY   KM   SPEED_AVG   SPEED_SD  SPEED_MIN  SPEED_MAX  \\\n",
       "0 2018-09-01 00:00:00  0.0  333  231.125907  34.573767    169.890    440.096   \n",
       "1 2018-09-01 00:15:00  0.0  333  225.915947  41.437726     98.698    436.860   \n",
       "2 2018-09-01 00:30:00  0.0  333  228.498770  43.031004    114.878    440.096   \n",
       "\n",
       "   N_VEHICLES  IMPUTED  EMERGENCY_LANE  LANES  ROAD_TYPE  \n",
       "0       150.0    False               1      2          1  \n",
       "1       225.0    False               1      2          1  \n",
       "2       148.0    False               1      2          1  "
      ]
     },
     "execution_count": 15,
     "metadata": {},
     "output_type": "execute_result"
    }
   ],
   "source": [
    "speeds_df = pd.merge(speeds_df, sensors_df)\n",
    "speeds_df.head(3)"
   ]
  },
  {
   "cell_type": "code",
   "execution_count": 13,
   "metadata": {},
   "outputs": [
    {
     "data": {
      "text/plain": [
       "(2171, 5)"
      ]
     },
     "execution_count": 13,
     "metadata": {},
     "output_type": "execute_result"
    }
   ],
   "source": []
  },
  {
   "cell_type": "code",
   "execution_count": 4,
   "metadata": {},
   "outputs": [],
   "source": []
  },
  {
   "cell_type": "code",
   "execution_count": 17,
   "metadata": {},
   "outputs": [
    {
     "name": "stderr",
     "output_type": "stream",
     "text": [
      "/opt/conda/lib/python3.7/site-packages/pandas/plotting/_converter.py:129: FutureWarning: Using an implicitly registered datetime converter for a matplotlib plotting method. The converter was registered by pandas on import. Future versions of pandas will require you to explicitly register matplotlib converters.\n",
      "\n",
      "To register the converters:\n",
      "\t>>> from pandas.plotting import register_matplotlib_converters\n",
      "\t>>> register_matplotlib_converters()\n",
      "  warnings.warn(msg, FutureWarning)\n"
     ]
    },
    {
     "data": {
      "text/plain": [
       "<matplotlib.axes._subplots.AxesSubplot at 0x7fbbbce0cbe0>"
      ]
     },
     "execution_count": 17,
     "metadata": {},
     "output_type": "execute_result"
    },
    {
     "data": {
      "image/png": "[encoded data removed]",
      "text/plain": [
       "<Figure size 432x288 with 1 Axes>"
      ]
     },
     "metadata": {
      "needs_background": "light"
     },
     "output_type": "display_data"
    }
   ],
   "source": []
  }
 ],
 "metadata": {
  "kernelspec": {
   "display_name": "Python 3",
   "language": "python",
   "name": "python3"
  },
  "language_info": {
   "codemirror_mode": {
    "name": "ipython",
    "version": 3
   },
   "file_extension": ".py",
   "mimetype": "text/x-python",
   "name": "python",
   "nbconvert_exporter": "python",
   "pygments_lexer": "ipython3",
   "version": "3.7.0"
  }
 },
 "nbformat": 4,
 "nbformat_minor": 2
}
