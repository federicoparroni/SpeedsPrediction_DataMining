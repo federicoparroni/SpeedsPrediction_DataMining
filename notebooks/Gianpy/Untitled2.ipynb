{
 "cells": [
  {
   "cell_type": "code",
   "execution_count": 1,
   "metadata": {},
   "outputs": [],
   "source": [
    "# Imports\n",
    "import pandas as pd\n",
    "import matplotlib.pyplot as plt\n",
    "import os\n",
    "import seaborn as sns\n",
    "import numpy as np\n",
    "from sklearn.model_selection import train_test_split\n",
    "sns.set(style=\"white\", color_codes=True)\n",
    "sns.set_context(rc={'font.family': 'sans', 'font.size': 24, 'axes.titlesize':24, 'axes.labelsize':24})\n",
    "#if you want to know current working dir\n",
    "os.chdir('../..')\n",
    "\n",
    "from src.utils import *\n",
    "from src.utility import merge_speed_events\n",
    "import src.data as data\n",
    "import src.utility as utils\n",
    "from src.preprocessing.other_features import avg_speed_for_roadtype_event\n",
    "\n",
    "%matplotlib inline"
   ]
  },
  {
   "cell_type": "code",
   "execution_count": 66,
   "metadata": {},
   "outputs": [],
   "source": [
    "from sklearn.model_selection import train_test_split\n",
    "from sklearn.ensemble import GradientBoostingRegressor\n",
    "from sklearn.linear_model import LinearRegression\n",
    "from sklearn.svm import SVR\n",
    "from sklearn.linear_model import BayesianRidge\n",
    "from sklearn.metrics import mean_absolute_error\n",
    "from sklearn.multioutput import RegressorChain\n",
    "from sklearn.impute import SimpleImputer\n",
    "from sklearn.ensemble import BaggingRegressor\n",
    "import xgboost as xgb"
   ]
  },
  {
   "cell_type": "code",
   "execution_count": 3,
   "metadata": {},
   "outputs": [
    {
     "name": "stdout",
     "output_type": "stream",
     "text": [
      "caching resources/dataset/preprocessed/local/train/merged_dataset.csv.gz\n",
      "performing onehot\n",
      "EMERGENCY_LANE\n",
      "LANES\n",
      "ROAD_TYPE\n",
      "EVENT_DETAIL\n",
      "EVENT_TYPE\n",
      "SPEED_AVG_-4\n",
      "SPEED_AVG_-3\n",
      "SPEED_AVG_-2\n",
      "SPEED_AVG_-1\n",
      "SPEED_SD_-4\n",
      "SPEED_SD_-3\n",
      "SPEED_SD_-2\n",
      "SPEED_SD_-1\n",
      "SPEED_MAX_-4\n",
      "SPEED_MAX_-3\n",
      "SPEED_MAX_-2\n",
      "SPEED_MAX_-1\n",
      "SPEED_MIN_-4\n",
      "SPEED_MIN_-3\n",
      "SPEED_MIN_-2\n",
      "SPEED_MIN_-1\n",
      "N_VEHICLES_-4\n",
      "N_VEHICLES_-3\n",
      "N_VEHICLES_-2\n",
      "N_VEHICLES_-1\n",
      "WEATHER_-4\n",
      "WEATHER_-3\n",
      "WEATHER_-2\n",
      "WEATHER_-1\n",
      "DISTANCE_-4\n",
      "DISTANCE_-3\n",
      "DISTANCE_-2\n",
      "DISTANCE_-1\n",
      "TEMPERATURE_-4\n",
      "TEMPERATURE_-3\n",
      "TEMPERATURE_-2\n",
      "TEMPERATURE_-1\n",
      "MIN_TEMPERATURE_-4\n",
      "MIN_TEMPERATURE_-3\n",
      "MIN_TEMPERATURE_-2\n",
      "MIN_TEMPERATURE_-1\n",
      "MAX_TEMPERATURE_-4\n",
      "MAX_TEMPERATURE_-3\n",
      "MAX_TEMPERATURE_-2\n",
      "MAX_TEMPERATURE_-1\n",
      "avg_speed_street\n",
      "avg_speed_sd_street\n",
      "avg_speed_min_street\n",
      "avg_speed_max_street\n",
      "avg_n_vehicles_street\n",
      "avg_speed_sensor\n",
      "avg_speed_sd_sensor\n",
      "avg_speed_min_sensor\n",
      "avg_speed_max_sensor\n",
      "avg_n_vehicles_sensor\n",
      "avg_speed_sensor_hour_y_0\n",
      "avg_speed_sd_sensor_hour_y_0\n",
      "avg_speed_min_sensor_hour_y_0\n",
      "avg_speed_max_sensor_hour_y_0\n",
      "avg_n_vehicles_sensor_hour_y_0\n",
      "avg_speed_sensor_hour_y_1\n",
      "avg_speed_sd_sensor_hour_y_1\n",
      "avg_speed_min_sensor_hour_y_1\n",
      "avg_speed_max_sensor_hour_y_1\n",
      "avg_n_vehicles_sensor_hour_y_1\n",
      "avg_speed_sensor_hour_y_2\n",
      "avg_speed_sd_sensor_hour_y_2\n",
      "avg_speed_min_sensor_hour_y_2\n",
      "avg_speed_max_sensor_hour_y_2\n",
      "avg_n_vehicles_sensor_hour_y_2\n",
      "avg_speed_sensor_hour_y_3\n",
      "avg_speed_sd_sensor_hour_y_3\n",
      "avg_speed_min_sensor_hour_y_3\n",
      "avg_speed_max_sensor_hour_y_3\n",
      "avg_n_vehicles_sensor_hour_y_3\n",
      "avg_speed_roadtype\n",
      "avg_speed_roadtype_event\n",
      "avg_speed_sd_roadtype_event\n",
      "avg_speed_min_roadtype_event\n",
      "avg_speed_max_roadtype_event\n",
      "avg_n_vehicles_roadtype_event\n",
      "SPEED_AVG_1_DAY_BEFORE\n",
      "SPEED_SD_1_DAY_BEFORE\n",
      "SPEED_MIN_1_DAY_BEFORE\n",
      "SPEED_MAX_1_DAY_BEFORE\n",
      "N_VEHICLES_1_DAY_BEFORE\n",
      "SPEED_AVG_2_DAY_BEFORE\n",
      "SPEED_SD_2_DAY_BEFORE\n",
      "SPEED_MIN_2_DAY_BEFORE\n",
      "SPEED_MAX_2_DAY_BEFORE\n",
      "N_VEHICLES_2_DAY_BEFORE\n",
      "WEATHER_-4_CL\n",
      "WEATHER_-3_CL\n",
      "WEATHER_-2_CL\n",
      "WEATHER_-1_CL\n",
      "avg_n_vehicles_sensor_per_day\n",
      "WEEK_DAY\n",
      "IS_WEEKEND\n"
     ]
    }
   ],
   "source": [
    "X, Y = data.dataset()"
   ]
  },
  {
   "cell_type": "code",
   "execution_count": 4,
   "metadata": {},
   "outputs": [
    {
     "data": {
      "text/html": [
       "<div>\n",
       "<style scoped>\n",
       "    .dataframe tbody tr th:only-of-type {\n",
       "        vertical-align: middle;\n",
       "    }\n",
       "\n",
       "    .dataframe tbody tr th {\n",
       "        vertical-align: top;\n",
       "    }\n",
       "\n",
       "    .dataframe thead th {\n",
       "        text-align: right;\n",
       "    }\n",
       "</style>\n",
       "<table border=\"1\" class=\"dataframe\">\n",
       "  <thead>\n",
       "    <tr style=\"text-align: right;\">\n",
       "      <th></th>\n",
       "      <th>SPEED_AVG_Y_0</th>\n",
       "      <th>SPEED_AVG_Y_1</th>\n",
       "      <th>SPEED_AVG_Y_2</th>\n",
       "      <th>SPEED_AVG_Y_3</th>\n",
       "    </tr>\n",
       "  </thead>\n",
       "  <tbody>\n",
       "    <tr>\n",
       "      <th>12804</th>\n",
       "      <td>NaN</td>\n",
       "      <td>NaN</td>\n",
       "      <td>NaN</td>\n",
       "      <td>NaN</td>\n",
       "    </tr>\n",
       "    <tr>\n",
       "      <th>4185</th>\n",
       "      <td>NaN</td>\n",
       "      <td>NaN</td>\n",
       "      <td>NaN</td>\n",
       "      <td>NaN</td>\n",
       "    </tr>\n",
       "  </tbody>\n",
       "</table>\n",
       "</div>"
      ],
      "text/plain": [
       "       SPEED_AVG_Y_0  SPEED_AVG_Y_1  SPEED_AVG_Y_2  SPEED_AVG_Y_3\n",
       "12804            NaN            NaN            NaN            NaN\n",
       "4185             NaN            NaN            NaN            NaN"
      ]
     },
     "execution_count": 4,
     "metadata": {},
     "output_type": "execute_result"
    }
   ],
   "source": [
    "Y.head(2)"
   ]
  },
  {
   "cell_type": "code",
   "execution_count": 5,
   "metadata": {},
   "outputs": [],
   "source": [
    "dset = pd.concat([X, Y], axis=1)"
   ]
  },
  {
   "cell_type": "code",
   "execution_count": 6,
   "metadata": {},
   "outputs": [
    {
     "data": {
      "text/plain": [
       "(6394, 264)"
      ]
     },
     "execution_count": 6,
     "metadata": {},
     "output_type": "execute_result"
    }
   ],
   "source": [
    "dset.dropna(inplace=True, subset=['SPEED_AVG_Y_0', 'SPEED_AVG_Y_1', 'SPEED_AVG_Y_2', 'SPEED_AVG_Y_3'])\n",
    "dset.shape"
   ]
  },
  {
   "cell_type": "code",
   "execution_count": 76,
   "metadata": {},
   "outputs": [],
   "source": [
    "Y = dset[['SPEED_AVG_Y_0', 'SPEED_AVG_Y_1', 'SPEED_AVG_Y_2', 'SPEED_AVG_Y_3']]\n",
    "X = dset.drop(['SPEED_AVG_Y_0', 'SPEED_AVG_Y_1', 'SPEED_AVG_Y_2', 'SPEED_AVG_Y_3'], axis=1)\n",
    "imputer = SimpleImputer().fit(X)\n",
    "X_imputed = imputer.transform(X)\n",
    "X_train, X_test, y_train, y_test = train_test_split(X_imputed, Y, test_size=0.20, shuffle=False)"
   ]
  },
  {
   "cell_type": "code",
   "execution_count": 72,
   "metadata": {},
   "outputs": [
    {
     "name": "stderr",
     "output_type": "stream",
     "text": [
      "/Users/gianpaolo/anaconda3/envs/dmtm/lib/python3.7/site-packages/sklearn/ensemble/bagging.py:397: DataConversionWarning: A column-vector y was passed when a 1d array was expected. Please change the shape of y to (n_samples, ), for example using ravel().\n",
      "  return column_or_1d(y, warn=True)\n",
      "[Parallel(n_jobs=8)]: Using backend LokyBackend with 8 concurrent workers.\n",
      "[Parallel(n_jobs=8)]: Done   2 out of   8 | elapsed: 12.7min remaining: 38.0min\n",
      "[Parallel(n_jobs=8)]: Done   8 out of   8 | elapsed: 13.1min finished\n"
     ]
    }
   ],
   "source": [
    "# model = GradientBoostingRegressor(loss='lad', learning_rate=0.02, n_estimators=500, max_depth=3)\n",
    "# model = LinearRegression(n_jobs=6)\n",
    "# model = SVR(degree=5, cache_size=2000, max_iter=10)\n",
    "# model = BayesianRidge(verbose=True)\n",
    "base_model = GradientBoostingRegressor(loss='lad', criterion='mae', n_estimators=100, verbose=1)\n",
    "ensambled_model = BaggingRegressor(base_estimator=base_model, n_estimators=8, max_samples=0.8, n_jobs=8, verbose=1).fit(X_train, y_train)\n",
    "# model = RegressorChain(base_estimator=ensambled_model).fit(X_train, y_train)"
   ]
  },
  {
   "cell_type": "code",
   "execution_count": 78,
   "metadata": {},
   "outputs": [
    {
     "name": "stderr",
     "output_type": "stream",
     "text": [
      "[Parallel(n_jobs=5)]: Using backend LokyBackend with 5 concurrent workers.\n",
      "[Parallel(n_jobs=5)]: Done   2 out of   5 | elapsed:    0.1s remaining:    0.1s\n",
      "[Parallel(n_jobs=5)]: Done   5 out of   5 | elapsed:    0.1s finished\n",
      "[Parallel(n_jobs=5)]: Using backend LokyBackend with 5 concurrent workers.\n",
      "[Parallel(n_jobs=5)]: Done   2 out of   5 | elapsed:    0.0s remaining:    0.1s\n",
      "[Parallel(n_jobs=5)]: Done   5 out of   5 | elapsed:    0.1s finished\n",
      "[Parallel(n_jobs=5)]: Using backend LokyBackend with 5 concurrent workers.\n",
      "[Parallel(n_jobs=5)]: Done   2 out of   5 | elapsed:    0.0s remaining:    0.1s\n",
      "[Parallel(n_jobs=5)]: Done   5 out of   5 | elapsed:    0.1s finished\n",
      "[Parallel(n_jobs=5)]: Using backend LokyBackend with 5 concurrent workers.\n",
      "[Parallel(n_jobs=5)]: Done   2 out of   5 | elapsed:    0.0s remaining:    0.1s\n",
      "[Parallel(n_jobs=5)]: Done   5 out of   5 | elapsed:    0.1s finished\n"
     ]
    },
    {
     "data": {
      "text/plain": [
       "9.410892806954072"
      ]
     },
     "execution_count": 78,
     "metadata": {},
     "output_type": "execute_result"
    }
   ],
   "source": [
    "mean_absolute_error(model.predict(X_test), y_test)"
   ]
  },
  {
   "cell_type": "code",
   "execution_count": 75,
   "metadata": {},
   "outputs": [
    {
     "name": "stderr",
     "output_type": "stream",
     "text": [
      "[Parallel(n_jobs=5)]: Using backend LokyBackend with 5 concurrent workers.\n",
      "[Parallel(n_jobs=5)]: Done   2 out of   5 | elapsed:    0.1s remaining:    0.1s\n",
      "[Parallel(n_jobs=5)]: Done   5 out of   5 | elapsed:    0.1s finished\n",
      "[Parallel(n_jobs=5)]: Using backend LokyBackend with 5 concurrent workers.\n",
      "[Parallel(n_jobs=5)]: Done   2 out of   5 | elapsed:    0.1s remaining:    0.1s\n",
      "[Parallel(n_jobs=5)]: Done   5 out of   5 | elapsed:    0.1s finished\n",
      "[Parallel(n_jobs=5)]: Using backend LokyBackend with 5 concurrent workers.\n",
      "[Parallel(n_jobs=5)]: Done   2 out of   5 | elapsed:    0.0s remaining:    0.1s\n",
      "[Parallel(n_jobs=5)]: Done   5 out of   5 | elapsed:    0.1s finished\n",
      "[Parallel(n_jobs=5)]: Using backend LokyBackend with 5 concurrent workers.\n",
      "[Parallel(n_jobs=5)]: Done   2 out of   5 | elapsed:    0.0s remaining:    0.1s\n",
      "[Parallel(n_jobs=5)]: Done   5 out of   5 | elapsed:    0.1s finished\n"
     ]
    },
    {
     "data": {
      "text/plain": [
       "array([[183.2858988 , 182.32008165, 180.86903435, 176.99972419],\n",
       "       [175.36661068, 171.62956809, 170.5854976 , 168.50135857],\n",
       "       [106.53241414, 110.04673479, 108.89366853, 116.11275602],\n",
       "       ...,\n",
       "       [165.80645382, 175.13334187, 183.09039662, 188.27643883],\n",
       "       [194.3612005 , 194.24850561, 195.10160707, 194.90050583],\n",
       "       [179.41757589, 177.03565286, 175.76123404, 175.32323942]])"
      ]
     },
     "execution_count": 75,
     "metadata": {},
     "output_type": "execute_result"
    }
   ],
   "source": [
    "model.predict(X_test)"
   ]
  },
  {
   "cell_type": "code",
   "execution_count": 81,
   "metadata": {},
   "outputs": [
    {
     "data": {
      "text/plain": [
       "100"
      ]
     },
     "execution_count": 81,
     "metadata": {},
     "output_type": "execute_result"
    }
   ],
   "source": [
    "model.estimators_[0].base_estimator_"
   ]
  }
 ],
 "metadata": {
  "kernelspec": {
   "display_name": "Python 3",
   "language": "python",
   "name": "python3"
  },
  "language_info": {
   "codemirror_mode": {
    "name": "ipython",
    "version": 3
   },
   "file_extension": ".py",
   "mimetype": "text/x-python",
   "name": "python",
   "nbconvert_exporter": "python",
   "pygments_lexer": "ipython3",
   "version": "3.7.0"
  }
 },
 "nbformat": 4,
 "nbformat_minor": 2
}
