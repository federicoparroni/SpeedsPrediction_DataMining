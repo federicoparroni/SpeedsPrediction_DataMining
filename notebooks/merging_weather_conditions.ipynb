{
 "cells": [
  {
   "cell_type": "code",
   "execution_count": null,
   "metadata": {},
   "outputs": [],
   "source": [
    "from src import data\n",
    "import pandas as pd\n",
    "import math\n",
    "import numpy as np\n",
    "from tqdm import tqdm"
   ]
  },
  {
   "cell_type": "code",
   "execution_count": null,
   "metadata": {},
   "outputs": [],
   "source": [
    "speed = data.speeds('train')\n",
    "bsm = pd.read_csv('/home/giovanni/Desktop/DMProject/resources/dataset/preprocessed/base_structure_df_weather.csv.gz')\n",
    "bsm = bsm.drop(['Unnamed: 0'], axis=1)\n",
    "bsm.DATETIME_UTC = pd.to_datetime(bsm.DATETIME_UTC)\n",
    "bsm['hour'] = pd.to_datetime(bsm.DATETIME_UTC).dt.hour"
   ]
  },
  {
   "cell_type": "code",
   "execution_count": null,
   "metadata": {},
   "outputs": [],
   "source": [
    "bsm.WEATHER.unique()"
   ]
  },
  {
   "cell_type": "code",
   "execution_count": null,
   "metadata": {},
   "outputs": [],
   "source": [
    "bsm"
   ]
  },
  {
   "cell_type": "code",
   "execution_count": null,
   "metadata": {},
   "outputs": [],
   "source": [
    "d = {}\n",
    "bsm_dropped_duplicates = bsm.drop_duplicates(subset=['KEY', 'KM'])[['KEY', 'KM']]\n",
    "keys = bsm_dropped_duplicates.KEY.values\n",
    "kms = bsm_dropped_duplicates.KM.values\n",
    "for idx in tqdm(range(len(kms))):\n",
    "    key = keys[idx]\n",
    "    km = kms[idx]\n",
    "    fs = bsm[(bsm.KEY == key) & (bsm.KM == km)]\n",
    "    speeds = speed[(speed.KEY == key) & (speed.KM == km)]\n",
    "    fmerged = speeds.merge(fs)\n",
    "    for h in range(24):\n",
    "        merged = fmerged[(fmerged.hour == h)]        \n",
    "        mean_street = merged.SPEED_AVG.mean()\n",
    "        for wt in merged.WEATHER.unique():\n",
    "            slicew = merged[merged.WEATHER == wt]\n",
    "            slice_mean = slicew.SPEED_AVG.mean()\n",
    "            if type(wt) != float:\n",
    "                if wt not in d:\n",
    "                    d[wt] = [mean_street-slice_mean]\n",
    "                else:\n",
    "                    d[wt].append(mean_street-slice_mean)\n",
    "    #print('weather condition {}. mean: {}. diff: {}'.format(wt, slice_mean, abs(mean_street-slice_mean)))\n",
    "#d"
   ]
  },
  {
   "cell_type": "code",
   "execution_count": null,
   "metadata": {},
   "outputs": [],
   "source": [
    "d_mean = {}\n",
    "for k,v in d.items():\n",
    "    d_mean[k] = (-sum(v)/len(v), len(v))\n",
    "d_mean"
   ]
  },
  {
   "cell_type": "code",
   "execution_count": null,
   "metadata": {},
   "outputs": [],
   "source": [
    "len(d)"
   ]
  },
  {
   "cell_type": "code",
   "execution_count": null,
   "metadata": {},
   "outputs": [],
   "source": [
    "d_mean = {}\n",
    "for k,v in d.items():\n",
    "    d_mean[k] = -sum(v)/len(v)\n",
    "d_mean"
   ]
  },
  {
   "cell_type": "code",
   "execution_count": null,
   "metadata": {},
   "outputs": [],
   "source": [
    "clst_1=['Forte Pioggerella','Temporale con Forte  Neve Pioggia e  Grandine']\n",
    "clst_2=['Temporale con Debole Neve Pioggia e Grandine','Temporale con Grandine']\n",
    "clst_3=['Forte Pioggia','Rovescio con Forte Pioggia']\n",
    "clst_4=['Debole Pioggia e Pioggrella','Temporale con Debole Pioggia','Rovescio con Grandine Piccola','Rovescio con Debole Pioggia','Debole Pioggia']\n",
    "clst_5=['Debole Pioggia e Neve','Debole Neve']\n",
    "clst_6=['Tempesta di Polvere','Nelle Vicinanze Tempesta di Polvere']\n",
    "clst_7=['Debole Neve a Granuli','Neve e Pioggia']\n",
    "clst_8=['Nelle Vicinanze Nebbia','Banchi di Nebbia','Sottili Banchi di Nebbia','Foschia']\n",
    "\n",
    "clusters=[clst_1,clst_2,clst_3,clst_4,clst_5,clst_6,clst_7,clst_8]\n",
    "clusters_names=['Forte Pioggerella','Temporale con Debole Neve Pioggia e Grandine','Forte Pioggia','Debole Pioggia e Pioggrella','Debole Pioggia e Neve','Tempesta di Polvere','Debole Neve a Granuli','Nelle Vicinanze Nebbia']"
   ]
  },
  {
   "cell_type": "code",
   "execution_count": null,
   "metadata": {},
   "outputs": [],
   "source": [
    "bsm[\"WEATHER_CL\"]=\"\"\n",
    "it=0\n",
    "for cl in tqdm(clusters):\n",
    "    for c in tqdm(cl):\n",
    "        for row in bsm.loc[bsm[\"WEATHER\"]==c].iterrows():\n",
    "             bsm.at[row[0],'WEATHER_CL'] = clusters_names[it]\n",
    "            \n",
    "        \n",
    "    it = it+1\n",
    "        "
   ]
  },
  {
   "cell_type": "code",
   "execution_count": null,
   "metadata": {},
   "outputs": [],
   "source": [
    "for row in bsm.loc[bsm[\"WEATHER_CL\"]==\"\"].iterrows():\n",
    "    bsm.at[row[0],'WEATHER_CL'] = row.WEATHER"
   ]
  }
 ],
 "metadata": {
  "kernelspec": {
   "display_name": "Python 3",
   "language": "python",
   "name": "python3"
  },
  "language_info": {
   "codemirror_mode": {
    "name": "ipython",
    "version": 3
   },
   "file_extension": ".py",
   "mimetype": "text/x-python",
   "name": "python",
   "nbconvert_exporter": "python",
   "pygments_lexer": "ipython3",
   "version": "3.6.4"
  }
 },
 "nbformat": 4,
 "nbformat_minor": 2
}
