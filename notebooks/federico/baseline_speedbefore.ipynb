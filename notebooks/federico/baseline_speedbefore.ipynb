{
 "cells": [
  {
   "cell_type": "code",
   "execution_count": 1,
   "metadata": {},
   "outputs": [],
   "source": [
    "import os\n",
    "import sys\n",
    "sys.path.append(os.chdir('../../'))"
   ]
  },
  {
   "cell_type": "code",
   "execution_count": 2,
   "metadata": {},
   "outputs": [
    {
     "data": {
      "text/html": [
       "        <script type=\"text/javascript\">\n",
       "        window.PlotlyConfig = {MathJaxConfig: 'local'};\n",
       "        if (window.MathJax) {MathJax.Hub.Config({SVG: {font: \"STIX-Web\"}});}\n",
       "        if (typeof require !== 'undefined') {\n",
       "        require.undef(\"plotly\");\n",
       "        requirejs.config({\n",
       "            paths: {\n",
       "                'plotly': ['https://cdn.plot.ly/plotly-latest.min']\n",
       "            }\n",
       "        });\n",
       "        require(['plotly'], function(Plotly) {\n",
       "            window._Plotly = Plotly;\n",
       "        });\n",
       "        }\n",
       "        </script>\n",
       "        "
      ]
     },
     "metadata": {},
     "output_type": "display_data"
    },
    {
     "name": "stderr",
     "output_type": "stream",
     "text": [
      "/Users/federico/miniconda3/envs/recsys/lib/python3.6/site-packages/sklearn/externals/six.py:31: DeprecationWarning:\n",
      "\n",
      "The module is deprecated in version 0.21 and will be removed in version 0.23 since we've dropped support for Python 2.7. Please rely on the official version of six (https://pypi.org/project/six/).\n",
      "\n",
      "/Users/federico/miniconda3/envs/recsys/lib/python3.6/site-packages/sklearn/externals/joblib/__init__.py:15: DeprecationWarning:\n",
      "\n",
      "sklearn.externals.joblib is deprecated in 0.21 and will be removed in 0.23. Please import this functionality directly from joblib, which can be installed with: pip install joblib. If this warning is raised when loading pickled models, you may need to re-serialize those models with scikit-learn 0.21+.\n",
      "\n"
     ]
    }
   ],
   "source": [
    "import pandas as pd\n",
    "from tqdm.auto import tqdm\n",
    "import numpy as np\n",
    "import datetime\n",
    "\n",
    "import matplotlib.pyplot as plt\n",
    "import plotly.plotly as ply\n",
    "import plotly.graph_objs as go\n",
    "import src.utils.graph as graph\n",
    "from plotly.offline import init_notebook_mode, iplot\n",
    "init_notebook_mode(connected=True)\n",
    "\n",
    "#from sklearn.multioutput import MultiOutputRegressor\n",
    "from src.algorithms.multioutput import MultiOutputRegressor, RegressorChain\n",
    "\n",
    "from sklearn.utils import shuffle\n",
    "#from catboost import CatBoostRegressor\n",
    "from src.algorithms.catboost_model import CatBoost\n",
    "\n",
    "from sklearn.metrics import mean_absolute_error\n",
    "\n",
    "tqdm.pandas()\n",
    "pd.options.display.max_columns = None\n",
    "pd.options.display.max_colwidth = -1\n",
    "\n",
    "import src.data as data\n",
    "import src.utility as utility"
   ]
  },
  {
   "cell_type": "markdown",
   "metadata": {},
   "source": [
    "## Baseline predicting the last available speed"
   ]
  },
  {
   "cell_type": "code",
   "execution_count": 3,
   "metadata": {},
   "outputs": [
    {
     "name": "stdout",
     "output_type": "stream",
     "text": [
      "caching resources/dataset/preprocessed/full/train/base_dataset.csv.gz\n"
     ]
    },
    {
     "data": {
      "text/plain": [
       "(27545, 62)"
      ]
     },
     "execution_count": 3,
     "metadata": {},
     "output_type": "execute_result"
    }
   ],
   "source": [
    "mode = 'full'\n",
    "t = 'train'\n",
    "d = data.base_dataset(mode, t) #, onehot=False, drop_index_columns=True)\n",
    "d.shape"
   ]
  },
  {
   "cell_type": "markdown",
   "metadata": {},
   "source": [
    "#### Taking the last 20% as validation"
   ]
  },
  {
   "cell_type": "code",
   "execution_count": 4,
   "metadata": {},
   "outputs": [
    {
     "data": {
      "text/plain": [
       "(5509, 62)"
      ]
     },
     "execution_count": 4,
     "metadata": {},
     "output_type": "execute_result"
    }
   ],
   "source": [
    "val_split = int(d.shape[0] * 0.2)\n",
    "d = d.sort_values('DATETIME_UTC_y_0').iloc[-val_split:]\n",
    "d.shape"
   ]
  },
  {
   "cell_type": "markdown",
   "metadata": {},
   "source": [
    "#### Dropping rows with all Y and X NaN"
   ]
  },
  {
   "cell_type": "code",
   "execution_count": 5,
   "metadata": {},
   "outputs": [
    {
     "name": "stdout",
     "output_type": "stream",
     "text": [
      "After droppping when all Y are NaN: (3016, 8)\n",
      "After droppping when all X are NaN: (2879, 8)\n"
     ]
    },
    {
     "name": "stderr",
     "output_type": "stream",
     "text": [
      "/Users/federico/miniconda3/envs/recsys/lib/python3.6/site-packages/ipykernel_launcher.py:4: SettingWithCopyWarning:\n",
      "\n",
      "\n",
      "A value is trying to be set on a copy of a slice from a DataFrame\n",
      "\n",
      "See the caveats in the documentation: http://pandas.pydata.org/pandas-docs/stable/indexing.html#indexing-view-versus-copy\n",
      "\n",
      "/Users/federico/miniconda3/envs/recsys/lib/python3.6/site-packages/ipykernel_launcher.py:6: SettingWithCopyWarning:\n",
      "\n",
      "\n",
      "A value is trying to be set on a copy of a slice from a DataFrame\n",
      "\n",
      "See the caveats in the documentation: http://pandas.pydata.org/pandas-docs/stable/indexing.html#indexing-view-versus-copy\n",
      "\n"
     ]
    }
   ],
   "source": [
    "col_x = ['SPEED_AVG_-4','SPEED_AVG_-3','SPEED_AVG_-2','SPEED_AVG_-1']\n",
    "col_y = ['SPEED_AVG_Y_0','SPEED_AVG_Y_1','SPEED_AVG_Y_2','SPEED_AVG_Y_3']\n",
    "m = d[col_x + col_y]\n",
    "m.dropna(subset=col_y, how='all', inplace=True)\n",
    "print('After droppping when all Y are NaN:', m.shape)\n",
    "m.dropna(subset=col_x, how='all', inplace=True)\n",
    "print('After droppping when all X are NaN:', m.shape)"
   ]
  },
  {
   "cell_type": "code",
   "execution_count": 6,
   "metadata": {},
   "outputs": [
    {
     "name": "stdout",
     "output_type": "stream",
     "text": [
      "0.44627554383651946\n"
     ]
    }
   ],
   "source": [
    "print(1354 / 3034)"
   ]
  },
  {
   "cell_type": "code",
   "execution_count": 7,
   "metadata": {},
   "outputs": [
    {
     "data": {
      "text/html": [
       "<div>\n",
       "<style scoped>\n",
       "    .dataframe tbody tr th:only-of-type {\n",
       "        vertical-align: middle;\n",
       "    }\n",
       "\n",
       "    .dataframe tbody tr th {\n",
       "        vertical-align: top;\n",
       "    }\n",
       "\n",
       "    .dataframe thead th {\n",
       "        text-align: right;\n",
       "    }\n",
       "</style>\n",
       "<table border=\"1\" class=\"dataframe\">\n",
       "  <thead>\n",
       "    <tr style=\"text-align: right;\">\n",
       "      <th></th>\n",
       "      <th>SPEED_AVG_-4</th>\n",
       "      <th>SPEED_AVG_-3</th>\n",
       "      <th>SPEED_AVG_-2</th>\n",
       "      <th>SPEED_AVG_-1</th>\n",
       "      <th>SPEED_AVG_Y_0</th>\n",
       "      <th>SPEED_AVG_Y_1</th>\n",
       "      <th>SPEED_AVG_Y_2</th>\n",
       "      <th>SPEED_AVG_Y_3</th>\n",
       "    </tr>\n",
       "  </thead>\n",
       "  <tbody>\n",
       "    <tr>\n",
       "      <th>20951</th>\n",
       "      <td>173.013354</td>\n",
       "      <td>175.965019</td>\n",
       "      <td>175.564315</td>\n",
       "      <td>177.629711</td>\n",
       "      <td>177.077397</td>\n",
       "      <td>172.846586</td>\n",
       "      <td>176.122042</td>\n",
       "      <td>174.254342</td>\n",
       "    </tr>\n",
       "    <tr>\n",
       "      <th>25328</th>\n",
       "      <td>137.634387</td>\n",
       "      <td>139.640435</td>\n",
       "      <td>139.965010</td>\n",
       "      <td>138.147175</td>\n",
       "      <td>134.951868</td>\n",
       "      <td>137.810038</td>\n",
       "      <td>133.129040</td>\n",
       "      <td>144.627627</td>\n",
       "    </tr>\n",
       "    <tr>\n",
       "      <th>26449</th>\n",
       "      <td>176.567460</td>\n",
       "      <td>177.469053</td>\n",
       "      <td>182.889793</td>\n",
       "      <td>180.575542</td>\n",
       "      <td>179.780025</td>\n",
       "      <td>177.980000</td>\n",
       "      <td>175.561890</td>\n",
       "      <td>178.495626</td>\n",
       "    </tr>\n",
       "    <tr>\n",
       "      <th>21900</th>\n",
       "      <td>198.793364</td>\n",
       "      <td>196.349059</td>\n",
       "      <td>194.136886</td>\n",
       "      <td>191.733000</td>\n",
       "      <td>182.968833</td>\n",
       "      <td>190.614170</td>\n",
       "      <td>183.329839</td>\n",
       "      <td>198.428766</td>\n",
       "    </tr>\n",
       "    <tr>\n",
       "      <th>22151</th>\n",
       "      <td>194.904610</td>\n",
       "      <td>194.958740</td>\n",
       "      <td>190.150038</td>\n",
       "      <td>198.053749</td>\n",
       "      <td>197.229881</td>\n",
       "      <td>189.575667</td>\n",
       "      <td>185.694545</td>\n",
       "      <td>196.016825</td>\n",
       "    </tr>\n",
       "  </tbody>\n",
       "</table>\n",
       "</div>"
      ],
      "text/plain": [
       "       SPEED_AVG_-4  SPEED_AVG_-3  SPEED_AVG_-2  SPEED_AVG_-1  SPEED_AVG_Y_0  \\\n",
       "20951  173.013354    175.965019    175.564315    177.629711    177.077397      \n",
       "25328  137.634387    139.640435    139.965010    138.147175    134.951868      \n",
       "26449  176.567460    177.469053    182.889793    180.575542    179.780025      \n",
       "21900  198.793364    196.349059    194.136886    191.733000    182.968833      \n",
       "22151  194.904610    194.958740    190.150038    198.053749    197.229881      \n",
       "\n",
       "       SPEED_AVG_Y_1  SPEED_AVG_Y_2  SPEED_AVG_Y_3  \n",
       "20951  172.846586     176.122042     174.254342     \n",
       "25328  137.810038     133.129040     144.627627     \n",
       "26449  177.980000     175.561890     178.495626     \n",
       "21900  190.614170     183.329839     198.428766     \n",
       "22151  189.575667     185.694545     196.016825     "
      ]
     },
     "execution_count": 7,
     "metadata": {},
     "output_type": "execute_result"
    }
   ],
   "source": [
    "m.head()"
   ]
  },
  {
   "cell_type": "code",
   "execution_count": 8,
   "metadata": {},
   "outputs": [
    {
     "name": "stdout",
     "output_type": "stream",
     "text": [
      "125\n"
     ]
    }
   ],
   "source": [
    "# fill nan in x, so that the prediction is the first not NaN speed avg before target\n",
    "mask_nan = m['SPEED_AVG_-1'].isnull()\n",
    "print(sum(mask_nan*1))"
   ]
  },
  {
   "cell_type": "code",
   "execution_count": 9,
   "metadata": {},
   "outputs": [
    {
     "data": {
      "text/html": [
       "<div>\n",
       "<style scoped>\n",
       "    .dataframe tbody tr th:only-of-type {\n",
       "        vertical-align: middle;\n",
       "    }\n",
       "\n",
       "    .dataframe tbody tr th {\n",
       "        vertical-align: top;\n",
       "    }\n",
       "\n",
       "    .dataframe thead th {\n",
       "        text-align: right;\n",
       "    }\n",
       "</style>\n",
       "<table border=\"1\" class=\"dataframe\">\n",
       "  <thead>\n",
       "    <tr style=\"text-align: right;\">\n",
       "      <th></th>\n",
       "      <th>SPEED_AVG_-4</th>\n",
       "      <th>SPEED_AVG_-3</th>\n",
       "      <th>SPEED_AVG_-2</th>\n",
       "      <th>SPEED_AVG_-1</th>\n",
       "      <th>SPEED_AVG_Y_0</th>\n",
       "      <th>SPEED_AVG_Y_1</th>\n",
       "      <th>SPEED_AVG_Y_2</th>\n",
       "      <th>SPEED_AVG_Y_3</th>\n",
       "    </tr>\n",
       "  </thead>\n",
       "  <tbody>\n",
       "    <tr>\n",
       "      <th>20654</th>\n",
       "      <td>221.666</td>\n",
       "      <td>188.270480</td>\n",
       "      <td>199.823</td>\n",
       "      <td>NaN</td>\n",
       "      <td>197.036444</td>\n",
       "      <td>210.474833</td>\n",
       "      <td>175.258818</td>\n",
       "      <td>NaN</td>\n",
       "    </tr>\n",
       "    <tr>\n",
       "      <th>24739</th>\n",
       "      <td>167.463</td>\n",
       "      <td>167.732667</td>\n",
       "      <td>150.474</td>\n",
       "      <td>NaN</td>\n",
       "      <td>NaN</td>\n",
       "      <td>161.395500</td>\n",
       "      <td>NaN</td>\n",
       "      <td>NaN</td>\n",
       "    </tr>\n",
       "    <tr>\n",
       "      <th>25339</th>\n",
       "      <td>NaN</td>\n",
       "      <td>119.732000</td>\n",
       "      <td>NaN</td>\n",
       "      <td>NaN</td>\n",
       "      <td>NaN</td>\n",
       "      <td>NaN</td>\n",
       "      <td>127.822000</td>\n",
       "      <td>NaN</td>\n",
       "    </tr>\n",
       "  </tbody>\n",
       "</table>\n",
       "</div>"
      ],
      "text/plain": [
       "       SPEED_AVG_-4  SPEED_AVG_-3  SPEED_AVG_-2  SPEED_AVG_-1  SPEED_AVG_Y_0  \\\n",
       "20654  221.666       188.270480    199.823      NaN            197.036444      \n",
       "24739  167.463       167.732667    150.474      NaN           NaN              \n",
       "25339 NaN            119.732000   NaN           NaN           NaN              \n",
       "\n",
       "       SPEED_AVG_Y_1  SPEED_AVG_Y_2  SPEED_AVG_Y_3  \n",
       "20654  210.474833     175.258818    NaN             \n",
       "24739  161.395500    NaN            NaN             \n",
       "25339 NaN             127.822000    NaN             "
      ]
     },
     "execution_count": 9,
     "metadata": {},
     "output_type": "execute_result"
    }
   ],
   "source": [
    "m[mask_nan].head(3)"
   ]
  },
  {
   "cell_type": "code",
   "execution_count": 10,
   "metadata": {},
   "outputs": [
    {
     "name": "stdout",
     "output_type": "stream",
     "text": [
      "0\n"
     ]
    },
    {
     "name": "stderr",
     "output_type": "stream",
     "text": [
      "/Users/federico/miniconda3/envs/recsys/lib/python3.6/site-packages/pandas/core/frame.py:3391: SettingWithCopyWarning:\n",
      "\n",
      "\n",
      "A value is trying to be set on a copy of a slice from a DataFrame.\n",
      "Try using .loc[row_indexer,col_indexer] = value instead\n",
      "\n",
      "See the caveats in the documentation: http://pandas.pydata.org/pandas-docs/stable/indexing.html#indexing-view-versus-copy\n",
      "\n"
     ]
    }
   ],
   "source": [
    "m[col_x] = m[col_x].fillna(method='ffill', axis=1)\n",
    "print(sum(m['SPEED_AVG_-1'].isnull()*1))"
   ]
  },
  {
   "cell_type": "markdown",
   "metadata": {},
   "source": [
    "#### Cleaned dataset"
   ]
  },
  {
   "cell_type": "code",
   "execution_count": 11,
   "metadata": {},
   "outputs": [
    {
     "data": {
      "text/html": [
       "<div>\n",
       "<style scoped>\n",
       "    .dataframe tbody tr th:only-of-type {\n",
       "        vertical-align: middle;\n",
       "    }\n",
       "\n",
       "    .dataframe tbody tr th {\n",
       "        vertical-align: top;\n",
       "    }\n",
       "\n",
       "    .dataframe thead th {\n",
       "        text-align: right;\n",
       "    }\n",
       "</style>\n",
       "<table border=\"1\" class=\"dataframe\">\n",
       "  <thead>\n",
       "    <tr style=\"text-align: right;\">\n",
       "      <th></th>\n",
       "      <th>SPEED_AVG_-4</th>\n",
       "      <th>SPEED_AVG_-3</th>\n",
       "      <th>SPEED_AVG_-2</th>\n",
       "      <th>SPEED_AVG_-1</th>\n",
       "      <th>SPEED_AVG_Y_0</th>\n",
       "      <th>SPEED_AVG_Y_1</th>\n",
       "      <th>SPEED_AVG_Y_2</th>\n",
       "      <th>SPEED_AVG_Y_3</th>\n",
       "    </tr>\n",
       "  </thead>\n",
       "  <tbody>\n",
       "    <tr>\n",
       "      <th>20951</th>\n",
       "      <td>173.013354</td>\n",
       "      <td>175.965019</td>\n",
       "      <td>175.564315</td>\n",
       "      <td>177.629711</td>\n",
       "      <td>177.077397</td>\n",
       "      <td>172.846586</td>\n",
       "      <td>176.122042</td>\n",
       "      <td>174.254342</td>\n",
       "    </tr>\n",
       "    <tr>\n",
       "      <th>25328</th>\n",
       "      <td>137.634387</td>\n",
       "      <td>139.640435</td>\n",
       "      <td>139.965010</td>\n",
       "      <td>138.147175</td>\n",
       "      <td>134.951868</td>\n",
       "      <td>137.810038</td>\n",
       "      <td>133.129040</td>\n",
       "      <td>144.627627</td>\n",
       "    </tr>\n",
       "    <tr>\n",
       "      <th>26449</th>\n",
       "      <td>176.567460</td>\n",
       "      <td>177.469053</td>\n",
       "      <td>182.889793</td>\n",
       "      <td>180.575542</td>\n",
       "      <td>179.780025</td>\n",
       "      <td>177.980000</td>\n",
       "      <td>175.561890</td>\n",
       "      <td>178.495626</td>\n",
       "    </tr>\n",
       "    <tr>\n",
       "      <th>21900</th>\n",
       "      <td>198.793364</td>\n",
       "      <td>196.349059</td>\n",
       "      <td>194.136886</td>\n",
       "      <td>191.733000</td>\n",
       "      <td>182.968833</td>\n",
       "      <td>190.614170</td>\n",
       "      <td>183.329839</td>\n",
       "      <td>198.428766</td>\n",
       "    </tr>\n",
       "    <tr>\n",
       "      <th>22151</th>\n",
       "      <td>194.904610</td>\n",
       "      <td>194.958740</td>\n",
       "      <td>190.150038</td>\n",
       "      <td>198.053749</td>\n",
       "      <td>197.229881</td>\n",
       "      <td>189.575667</td>\n",
       "      <td>185.694545</td>\n",
       "      <td>196.016825</td>\n",
       "    </tr>\n",
       "  </tbody>\n",
       "</table>\n",
       "</div>"
      ],
      "text/plain": [
       "       SPEED_AVG_-4  SPEED_AVG_-3  SPEED_AVG_-2  SPEED_AVG_-1  SPEED_AVG_Y_0  \\\n",
       "20951  173.013354    175.965019    175.564315    177.629711    177.077397      \n",
       "25328  137.634387    139.640435    139.965010    138.147175    134.951868      \n",
       "26449  176.567460    177.469053    182.889793    180.575542    179.780025      \n",
       "21900  198.793364    196.349059    194.136886    191.733000    182.968833      \n",
       "22151  194.904610    194.958740    190.150038    198.053749    197.229881      \n",
       "\n",
       "       SPEED_AVG_Y_1  SPEED_AVG_Y_2  SPEED_AVG_Y_3  \n",
       "20951  172.846586     176.122042     174.254342     \n",
       "25328  137.810038     133.129040     144.627627     \n",
       "26449  177.980000     175.561890     178.495626     \n",
       "21900  190.614170     183.329839     198.428766     \n",
       "22151  189.575667     185.694545     196.016825     "
      ]
     },
     "execution_count": 11,
     "metadata": {},
     "output_type": "execute_result"
    }
   ],
   "source": [
    "m.head()"
   ]
  },
  {
   "cell_type": "code",
   "execution_count": null,
   "metadata": {},
   "outputs": [],
   "source": []
  },
  {
   "cell_type": "code",
   "execution_count": 12,
   "metadata": {},
   "outputs": [],
   "source": [
    "mae_4 = []\n",
    "for col in col_y:\n",
    "    # mae for each target\n",
    "    diff = np.abs(m['SPEED_AVG_-1'] - m[col])\n",
    "    mae_4.append(np.mean(diff))"
   ]
  },
  {
   "cell_type": "code",
   "execution_count": 13,
   "metadata": {},
   "outputs": [
    {
     "data": {
      "text/plain": [
       "[7.736181997473435, 8.85876905995962, 9.848053663420394, 10.307130125042415]"
      ]
     },
     "execution_count": 13,
     "metadata": {},
     "output_type": "execute_result"
    }
   ],
   "source": [
    "mae_4"
   ]
  },
  {
   "cell_type": "code",
   "execution_count": 14,
   "metadata": {},
   "outputs": [
    {
     "data": {
      "text/plain": [
       "9.187533711473966"
      ]
     },
     "execution_count": 14,
     "metadata": {},
     "output_type": "execute_result"
    }
   ],
   "source": [
    "np.mean(mae_4)"
   ]
  },
  {
   "cell_type": "code",
   "execution_count": null,
   "metadata": {},
   "outputs": [],
   "source": []
  },
  {
   "cell_type": "code",
   "execution_count": null,
   "metadata": {},
   "outputs": [],
   "source": []
  },
  {
   "cell_type": "code",
   "execution_count": null,
   "metadata": {},
   "outputs": [],
   "source": []
  },
  {
   "cell_type": "code",
   "execution_count": null,
   "metadata": {},
   "outputs": [],
   "source": []
  }
 ],
 "metadata": {
  "kernelspec": {
   "display_name": "Python 3",
   "language": "python",
   "name": "python3"
  },
  "language_info": {
   "codemirror_mode": {
    "name": "ipython",
    "version": 3
   },
   "file_extension": ".py",
   "mimetype": "text/x-python",
   "name": "python",
   "nbconvert_exporter": "python",
   "pygments_lexer": "ipython3",
   "version": "3.6.8"
  }
 },
 "nbformat": 4,
 "nbformat_minor": 2
}
